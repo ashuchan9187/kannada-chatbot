{
 "cells": [
  {
   "cell_type": "code",
   "execution_count": 10,
   "metadata": {},
   "outputs": [],
   "source": [
    "import pandas as pd\n"
   ]
  },
  {
   "cell_type": "code",
   "execution_count": 11,
   "metadata": {},
   "outputs": [
    {
     "name": "stdout",
     "output_type": "stream",
     "text": [
      "      ಚಂದ್ರು           ದೆಹಲಿ\n",
      "0        ಅಶು        ಕೊಲಂಬಿಯಾ\n",
      "1     ದಯಾನಂದ           ಮುಂಬೈ\n",
      "2      ಸೌಮ್ಯ        ಬೆಂಗಳೂರು\n",
      "3     ಅಭಿಷೇಕ        ನೆಲಮಾಂಗಲ\n",
      "4    ನಾರಾಯಣ್      ಯಶ್ವಂತ್ಪುರ\n",
      "5     ಕಾವ್ಯಾ           ಪೀನ್ಯ\n",
      "6     ಚಂದಾನಾ  ಜಲಹಳ್ಳಿ ಕ್ರಾಸ್\n",
      "7        ಮಧು       ಬಾಗಲಗುಂಟೆ\n",
      "8     ರೊಮಿಯೊ      ಮೆಜೆಸ್ಟಿಕ್\n",
      "9   ಜೂಲಿಯೆಟ್      ಮಲ್ಲೇಶ್ವರಂ\n",
      "10       NaN        ಕ್ರ ಪುರಂ\n",
      "11       NaN  ಡಿ.ವಿ.ಜಿ. ರೋಡ್\n",
      "12       NaN         ಲಾಲಬಾಗ್\n",
      "13       NaN         ಕೋರಮಂಗಲ\n",
      "14       NaN         ಬನಶಂಕರಿ\n",
      "15       NaN        ದಾವಣಗೆರೆ\n",
      "16       NaN      ಚಿತ್ರದುರ್ಗ\n"
     ]
    }
   ],
   "source": [
    "df = pd.read_csv('name_places.csv', encoding=\"utf-8\")\n",
    "print df"
   ]
  },
  {
   "cell_type": "code",
   "execution_count": null,
   "metadata": {},
   "outputs": [],
   "source": []
  }
 ],
 "metadata": {
  "kernelspec": {
   "display_name": "Python 2",
   "language": "python",
   "name": "python2"
  },
  "language_info": {
   "codemirror_mode": {
    "name": "ipython",
    "version": 2
   },
   "file_extension": ".py",
   "mimetype": "text/x-python",
   "name": "python",
   "nbconvert_exporter": "python",
   "pygments_lexer": "ipython2",
   "version": "2.7.10"
  }
 },
 "nbformat": 4,
 "nbformat_minor": 2
}
