{
 "cells": [
  {
   "cell_type": "code",
   "execution_count": 234,
   "metadata": {},
   "outputs": [],
   "source": [
    "import pandas as pd\n",
    "import random\n",
    "import numpy as np\n",
    "file_path = \"/Volumes/chandru/PROJECTS/KANNADA_CHATBOT/modules/classifier/models/name_places.csv\""
   ]
  },
  {
   "cell_type": "code",
   "execution_count": 235,
   "metadata": {},
   "outputs": [
    {
     "name": "stdout",
     "output_type": "stream",
     "text": [
      "Index([u'names', u'places', u'date_mon_yr', u'hr_min', u'time_words', u'date',\n",
      "       u'month', u'hr_kannada'],\n",
      "      dtype='object')\n",
      "ಚಂದ್ರು\n"
     ]
    }
   ],
   "source": [
    "df = pd.read_csv(file_path,encoding=\"utf-8\")\n",
    "columns = df.columns\n",
    "total_rows = len(df['names'])\n"
   ]
  },
  {
   "cell_type": "code",
   "execution_count": 236,
   "metadata": {},
   "outputs": [
    {
     "name": "stdout",
     "output_type": "stream",
     "text": [
      "{}\n"
     ]
    }
   ],
   "source": [
    "query_label_dict = dict()"
   ]
  },
  {
   "cell_type": "code",
   "execution_count": 248,
   "metadata": {},
   "outputs": [
    {
     "name": "stdout",
     "output_type": "stream",
     "text": [
      "[12, 8, 6, 3, 9]\n"
     ]
    }
   ],
   "source": [
    "for i in range(1):\n",
    "    ran_list = random.sample(np.arange(18),5)\n",
    "    print ran_list\n",
    "    query_label_dict.setdefault(\"query\",[]).append(\"%sಗೆ ಒಂದು ಕ್ಯಾಬ್ ಬುಕ್ ಮಾಡು\"%(df[\"names\"][ran_list[0]].encode('utf-8','ignore')))\n",
    "    query_label_dict.setdefault(\"label\",[]).append(1)\n",
    "    query_label_dict.setdefault(\"query\",[]).append(\"%s ಕ್ಯಾಬ್ ಬುಕ್ ಮಾಡು\"%(df[\"names\"][ran_list[0]].encode('utf-8','ignore')))\n",
    "    query_label_dict.setdefault(\"label\",[]).append(1)\n",
    "    query_label_dict.setdefault(\"query\",[]).append(\"%sಗೆ ಬೇಗ ಒಂದು ಕ್ಯಾಬ್ ಬುಕ್ ಮಾಡು\"%(df[\"names\"][ran_list[0]].encode('utf-8','ignore')))\n",
    "    query_label_dict.setdefault(\"label\",[]).append(1)\n",
    "    query_label_dict.setdefault(\"query\",[]).append(\"ಬೇಗ ಒಂದು ಕ್ಯಾಬ್ ಬುಕ್ ಮಾಡು %s\"%(df[\"names\"][ran_list[0]].encode('utf-8','ignore')))\n",
    "    query_label_dict.setdefault(\"label\",[]).append(1)\n",
    "    query_label_dict.setdefault(\"query\",[]).append(\"%sಬೇಗ ಒಂದ್ ಕ್ಯಾಬ್ ಬುಕ್ ಮಾಡ್ತೀರಾ ನಂಗೆ\"%(df[\"names\"][ran_list[0]].encode('utf-8','ignore')))\n",
    "    query_label_dict.setdefault(\"label\",[]).append(1)\n",
    "    query_label_dict.setdefault(\"query\",[]).append(\"ನಂಗೆ ಒಂದು ಕ್ಯಾಬ್ ಬುಕ್ ಮಾಡ್ತೀರಾ %s\"%(df[\"names\"][ran_list[0]].encode('utf-8','ignore')))\n",
    "    query_label_dict.setdefault(\"label\",[]).append(1)\n",
    "    query_label_dict.setdefault(\"query\",[]).append(\"%s ಕ್ಯಾಬ್ ಬುಕ್ ಮಾಡು\"%(df[\"names\"][ran_list[0]].encode('utf-8','ignore')))\n",
    "    query_label_dict.setdefault(\"label\",[]).append(1)\n",
    "    query_label_dict.setdefault(\"query\",[]).append(\"ಕ್ಯಾಬ್ ಬುಕ್ ಮಾಡು %s\"%(df[\"names\"][ran_list[0]].encode('utf-8','ignore')))\n",
    "    query_label_dict.setdefault(\"label\",[]).append(1)\n",
    "    query_label_dict.setdefault(\"query\",[]).append(\"%s %sಗೆ ಒಂದು ಕ್ಯಾಬ್ ಬುಕ್ ಮಾಡು\"%(df[\"names\"][ran_list[0]].encode('utf-8','ignore'),df[\"names\"][ran_list[1]].encode('utf-8','ignore')))\n",
    "    query_label_dict.setdefault(\"label\",[]).append(1)\n",
    "    query_label_dict.setdefault(\"query\",[]).append(\"%s ಬೇಗ ಒಂದು ಕ್ಯಾಬ್ ಬುಕ್ ಮಾಡು %sಗೆ\"%(df[\"names\"][ran_list[0]].encode('utf-8','ignore'),df[\"names\"][ran_list[1]].encode('utf-8','ignore')))\n",
    "    query_label_dict.setdefault(\"label\",[]).append(1)\n",
    "    query_label_dict.setdefault(\"query\",[]).append(\"%s ಬೇಗ %sಗೆ ಒಂದು ಕ್ಯಾಬ್ ಬುಕ್ ಮಾಡು\"%(df[\"names\"][ran_list[0]].encode('utf-8','ignore'),df[\"names\"][ran_list[1]].encode('utf-8','ignore')))\n",
    "    query_label_dict.setdefault(\"label\",[]).append(1)\n",
    "    query_label_dict.setdefault(\"query\",[]).append(\"%s ಇಲ್ಲಿಂದ %sಗೆ ಹೋಗಲು ಬುಕ್ ಕ್ಯಾಬ್\"%(df[\"names\"][ran_list[0]].encode('utf-8','ignore'),df[\"places\"][ran_list[1]].encode('utf-8','ignore')))\n",
    "    query_label_dict.setdefault(\"label\",[]).append(1)\n",
    "    query_label_dict.setdefault(\"query\",[]).append(\"%s ಕ್ಯಾಬ್ ಬುಕ್ ಮಾಡು %sಗೆ\"%(df[\"names\"][ran_list[0]].encode('utf-8','ignore'),df[\"places\"][ran_list[1]].encode('utf-8','ignore')))\n",
    "    query_label_dict.setdefault(\"label\",[]).append(1)\n",
    "    query_label_dict.setdefault(\"query\",[]).append(\"%sಗೆ %s ಇಂದ %sಗೆ ಕ್ಯಾಬ್ ಬುಕ್ ಮಾಡು\"%(df[\"names\"][ran_list[0]].encode('utf-8','ignore'),df[\"places\"][ran_list[1]].encode('utf-8','ignore'),df[\"places\"][ran_list[2]].encode('utf-8','ignore')))\n",
    "    query_label_dict.setdefault(\"label\",[]).append(1)\n",
    "    query_label_dict.setdefault(\"query\",[]).append(\"%s ಇಂದ %sಗೆ ಕ್ಯಾಬ್ ಬುಕ್ ಮಾಡು\"%(df[\"places\"][ran_list[1]].encode('utf-8','ignore'),df[\"places\"][ran_list[2]].encode('utf-8','ignore')))\n",
    "    query_label_dict.setdefault(\"label\",[]).append(1)\n",
    "    query_label_dict.setdefault(\"query\",[]).append(\"%s ಇಂದ %sಗೆ ಕ್ಯಾಬ್ ಬುಕ್ ಮಾಡು %s\"%(df[\"places\"][ran_list[1]].encode('utf-8','ignore'),df[\"places\"][ran_list[2]].encode('utf-8','ignore'),df[\"names\"][ran_list[0]].encode('utf-8','ignore')))\n",
    "    query_label_dict.setdefault(\"label\",[]).append(1)\n",
    "    query_label_dict.setdefault(\"query\",[]).append(\"ಬೇಗ %s ಇಂದ %sಗೆ ಒಂದ್ ಕ್ಯಾಬ್ ಬುಕ್ ಮಾಡು\" %(df[\"places\"][ran_list[1]].encode('utf-8','ignore'),df[\"places\"][ran_list[2]].encode('utf-8','ignore')))\n",
    "    query_label_dict.setdefault(\"label\",[]).append(1)\n",
    "    query_label_dict.setdefault(\"query\",[]).append(\"ಬೇಗ %s ಇಂದ %sಗೆ ಒಂದ್ ಕ್ಯಾಬ್ ಬುಕ್ ಮಾಡು %s\"%(df[\"places\"][ran_list[1]].encode('utf-8','ignore'),df[\"places\"][ran_list[2]].encode('utf-8','ignore'),df[\"names\"][ran_list[0]].encode('utf-8','ignore')))\n",
    "    query_label_dict.setdefault(\"label\",[]).append(1)\n",
    "    query_label_dict.setdefault(\"query\",[]).append(\"%s ಬೇಗ %sಇಂದ %sಗೆ ಒಂದ್ ಕ್ಯಾಬ್ ಬುಕ್ ಮಾಡು\" %(df[\"names\"][ran_list[0]].encode('utf-8','ignore'),df[\"places\"][ran_list[1]].encode('utf-8','ignore'),df[\"places\"][ran_list[2]].encode('utf-8','ignore')))\n",
    "    query_label_dict.setdefault(\"label\",[]).append(1)\n",
    "    query_label_dict.setdefault(\"query\",[]).append(\"%s ಬೇಗ ನಂಗೆ ಒಂದು ಕ್ಯಾಬ್ ಬುಕ್ ಮಾಡಿ %s ಇಂದ ಮನೆಗೆ\" %(df[\"names\"][ran_list[0]].encode('utf-8','ignore'),df[\"places\"][ran_list[1]].encode('utf-8','ignore')))\n",
    "    query_label_dict.setdefault(\"label\",[]).append(1)\n",
    "    query_label_dict.setdefault(\"query\",[]).append(\"%s %sಇಂದ %sಗೆ ಒಂದು ಕ್ಯಾಬ್ ಬುಕ್ ಮಾಡ್ತೀರಾ ಪ್ಲೀಸ್\" %(df[\"names\"][ran_list[0]].encode('utf-8','ignore'),df[\"places\"][ran_list[1]].encode('utf-8','ignore'),df[\"places\"][ran_list[2]].encode('utf-8','ignore')))\n",
    "    query_label_dict.setdefault(\"label\",[]).append(1)\n",
    "    query_label_dict.setdefault(\"query\",[]).append(\"%s ಪ್ಲೀಸ್ %sಇಂದ %sಗೆ ಒಂದು ಕ್ಯಾಬ್ ಬುಕ್ ಮಾಡಿ\"%(df[\"names\"][ran_list[0]].encode('utf-8','ignore'),df[\"places\"][ran_list[1]].encode('utf-8','ignore'),df[\"places\"][ran_list[2]].encode('utf-8','ignore')))\n",
    "    query_label_dict.setdefault(\"label\",[]).append(1)\n",
    "    query_label_dict.setdefault(\"query\",[]).append(\"ಪ್ಲೀಸ್ %s %sನಿಂದ ಇಂದ %sಗೆ ಒಂದು ಕ್ಯಾಬ್ ಬುಕ್ ಮಾಡಿ\"%(df[\"names\"][ran_list[0]].encode('utf-8','ignore'),df[\"places\"][ran_list[1]].encode('utf-8','ignore'),df[\"places\"][ran_list[2]].encode('utf-8','ignore')))\n",
    "    query_label_dict.setdefault(\"label\",[]).append(1)\n",
    "    query_label_dict.setdefault(\"query\",[]).append(\"%s ಒಂದು ಕ್ಯಾಬ್ ಬುಕ್ ಮಾಡಿ %s\"%(df[\"time_words\"][ran_list[4]].encode('utf-8','ignore'),df[\"names\"][ran_list[0]].encode('utf-8','ignore')))\n",
    "    query_label_dict.setdefault(\"label\",[]).append(1)\n",
    "    query_label_dict.setdefault(\"query\",[]).append(\"%sಗೆ %sನಿಂದ %sಗೆ ಒಂದು ಕ್ಯಾಬ್ ಬುಕ್ ಮಾಡಿ\"%(df[\"time_words\"][ran_list[4]].encode('utf-8','ignore'),df[\"places\"][ran_list[1]].encode('utf-8','ignore'),df[\"places\"][ran_list[2]].encode('utf-8','ignore')))\n",
    "    query_label_dict.setdefault(\"label\",[]).append(1)\n",
    "    query_label_dict.setdefault(\"query\",[]).append(\"%sಗೆ %sನಿಂದ %sಗೆ ಕ್ಯಾಬ್ ಬುಕ್ ಮಾಡಿ\"%(df[\"time_words\"][ran_list[4]].encode('utf-8','ignore'),df[\"places\"][ran_list[1]].encode('utf-8','ignore'),df[\"places\"][ran_list[2]].encode('utf-8','ignore')))\n",
    "    query_label_dict.setdefault(\"label\",[]).append(1)\n",
    "    query_label_dict.setdefault(\"query\",[]).append(\"%s %sಗೆ  %sನಿಂದ %sಗೆ ಒಂದು ಕ್ಯಾಬ್ ಬುಕ್ ಮಾಡಿ\" %(df[\"names\"][ran_list[0]].encode('utf-8','ignore'),df[\"time_words\"][ran_list[4]].encode('utf-8','ignore'),df[\"places\"][ran_list[1]].encode('utf-8','ignore'),df[\"places\"][ran_list[2]].encode('utf-8','ignore')))\n",
    "    query_label_dict.setdefault(\"label\",[]).append(1)\n",
    "    query_label_dict.setdefault(\"query\",[]).append(\"%sಗೆ %sನಿಂದ %sಳಿಗೆ ಒಂದು ಕ್ಯಾಬ್ ಬುಕ್ ಮಾಡಿ %s\"%(df[\"time_words\"][ran_list[4]].encode('utf-8','ignore'),df[\"places\"][ran_list[1]].encode('utf-8','ignore'),df[\"places\"][ran_list[2]].encode('utf-8','ignore'),df[\"names\"][ran_list[0]].encode('utf-8','ignore')))\n",
    "    query_label_dict.setdefault(\"label\",[]).append(1)\n",
    "    query_label_dict.setdefault(\"query\",[]).append(\"%sಗೆ ಒಂದು ಕ್ಯಾಬ್ ಬುಕ್ ಮಾಡಿ\" %(df[\"time_words\"][ran_list[4]].encode('utf-8','ignore')))\n",
    "    query_label_dict.setdefault(\"label\",[]).append(1)\n",
    "    query_label_dict.setdefault(\"query\",[]).append(\"%s %sಗೆ ಒಂದು ಕ್ಯಾಬ್ ಬುಕ್ ಮಾಡಿ\"%(df[\"names\"][ran_list[0]].encode('utf-8','ignore'),df[\"time_words\"][ran_list[4]].encode('utf-8','ignore')))\n",
    "    query_label_dict.setdefault(\"label\",[]).append(1)\n",
    "    query_label_dict.setdefault(\"query\",[]).append(\"%sಗೆ ಒಂದು ಕ್ಯಾಬ್ ಬುಕ್ ಮಾಡು\"%(df[\"time_words\"][ran_list[4]].encode('utf-8','ignore')))\n",
    "    query_label_dict.setdefault(\"label\",[]).append(1)\n",
    "    query_label_dict.setdefault(\"query\",[]).append(\"%sಗೆ ಒಂದು ಕ್ಯಾಬ್ ಬುಕ್ ಮಾಡು %s\"%(df[\"time_words\"][ran_list[4]].encode('utf-8','ignore'),df[\"names\"][ran_list[0]].encode('utf-8','ignore')))\n",
    "    query_label_dict.setdefault(\"label\",[]).append(1)\n",
    "    query_label_dict.setdefault(\"query\",[]).append(\"%s %sಗೆ ಒಂದು ಕ್ಯಾಬ್ ಬುಕ್ ಮಾಡು\"%(df[\"names\"][ran_list[0]].encode('utf-8','ignore'),df[\"time_words\"][ran_list[4]].encode('utf-8','ignore')))\n",
    "    query_label_dict.setdefault(\"label\",[]).append(1)\n",
    "    query_label_dict.setdefault(\"query\",[]).append(\"%sಗೆ ಒಂದು ಕ್ಯಾಬ್ ಬುಕ್ ಮಾಡು\"%(df[\"time_words\"][ran_list[4]].encode('utf-8','ignore')))\n",
    "    query_label_dict.setdefault(\"label\",[]).append(1)\n",
    "    query_label_dict.setdefault(\"query\",[]).append(\"%sಗೆ ಒಂದು ಕ್ಯಾಬ್ ಬುಕ್ ಮಾಡು %s\"%(df[\"time_words\"][ran_list[4]].encode('utf-8','ignore'),df[\"names\"][ran_list[0]].encode('utf-8','ignore')))\n",
    "    query_label_dict.setdefault(\"label\",[]).append(1)\n",
    "    query_label_dict.setdefault(\"query\",[]).append(\"%s %sಗೆ ಒಂದು ಕ್ಯಾಬ್ ಬುಕ್ ಮಾಡು \"%(df[\"names\"][ran_list[0]].encode('utf-8','ignore'),df[\"time_words\"][ran_list[4]].encode('utf-8','ignore')))\n",
    "    query_label_dict.setdefault(\"label\",[]).append(1)\n",
    "    query_label_dict.setdefault(\"query\",[]).append(\"%s %s %s %s ಗಂಟೆಗೆ %sಇಂದ %sಗೆ ಒಂದು ಕ್ಯಾಬ್ ಬುಕ್ ಮಾಡು\" % (df[\"names\"][ran_list[0]].encode('utf-8','ignore'),df[\"date\"][ran_list[3]],df[\"month\"][ran_list[0]].encode('utf-8','ignore'),df[\"hr_kannada\"][ran_list[1]].encode('utf-8','ignore'),df[\"places\"][ran_list[1]].encode('utf-8','ignore'),df[\"places\"][ran_list[2]].encode('utf-8','ignore')))\n",
    "    query_label_dict.setdefault(\"label\",[]).append(1)"
   ]
  },
  {
   "cell_type": "code",
   "execution_count": null,
   "metadata": {},
   "outputs": [],
   "source": [
    "generated_df = pd.DataFrame(query_label_dict,columns=[\"query\",\"label\"])\n"
   ]
  },
  {
   "cell_type": "code",
   "execution_count": 25,
   "metadata": {},
   "outputs": [],
   "source": [
    "raw_data = {'first_name': ['Jason', 'Molly', 'Tina', 'Jake', 'Amy'], \n",
    "        'last_name': ['Miller', 'Jacobson', 'Ali', 'Milner', 'Cooze'], \n",
    "        'age': [42, 52, 36, 24, 73], \n",
    "        'preTestScore': [4, 24, 31, 2, 3],\n",
    "        'postTestScore': [25, 94, 57, 62, 70]}\n",
    "df = pd.DataFrame(raw_data, columns = ['first_name', 'last_name', 'age', 'preTestScore', 'postTestScore'])"
   ]
  },
  {
   "cell_type": "code",
   "execution_count": 37,
   "metadata": {},
   "outputs": [],
   "source": []
  }
 ],
 "metadata": {
  "kernelspec": {
   "display_name": "Python 2",
   "language": "python",
   "name": "python2"
  },
  "language_info": {
   "codemirror_mode": {
    "name": "ipython",
    "version": 2
   },
   "file_extension": ".py",
   "mimetype": "text/x-python",
   "name": "python",
   "nbconvert_exporter": "python",
   "pygments_lexer": "ipython2",
   "version": "2.7.10"
  }
 },
 "nbformat": 4,
 "nbformat_minor": 2
}
